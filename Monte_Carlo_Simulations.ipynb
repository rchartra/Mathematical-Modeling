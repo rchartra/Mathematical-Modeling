{
 "cells": [
  {
   "cell_type": "code",
   "execution_count": 37,
   "id": "59b072ae",
   "metadata": {},
   "outputs": [],
   "source": [
    "import numpy as np"
   ]
  },
  {
   "cell_type": "markdown",
   "id": "8ff63fa0",
   "metadata": {},
   "source": [
    "# Monte Carlo Simulations for Solving Modeling Problems"
   ]
  },
  {
   "cell_type": "markdown",
   "id": "22719598",
   "metadata": {},
   "source": [
    "# Problem 1: Craps\n",
    "\n",
    "The rules for the game are the following:\n",
    "\n",
    "* First turn:\n",
    "    - Roll 2 die and add the results\n",
    "    - If the sum is 7 or 11, you win and the game ends\n",
    "    - If the sum is 2, 3, or 12 you lose and the game ends\n",
    "* Otherwise, roll again:\n",
    "    - If the sum is 7, you lose\n",
    "    - If you get the same sum as the first roll, you win\n",
    "    - Otherwise, roll again\n",
    "    - Keep rolling until you either win or lose and the game ends\n",
    "    \n",
    "Design an algorithm to simulate the above game and determine the percentage of time someone wins.\n",
    "\n",
    "### Algorithm Overview:\n",
    "\n",
    "* Simulate a roll of a die by generating a random number between 0 and 1, multiplying that number by 6, and returning the value of that number rounded up to the nearest integer.\n",
    "* Add results of two die rolls to get the total from the roll of two die.\n",
    "* For each game of craps perform the following:\n",
    "    - Roll first turn, if the sum of the die is 7 or 11, return True and game ends. If 2, 3, or 12 return False and game ends.\n",
    "     - If game isn't over, keep rolling successively in a while loop until conditions are met:\n",
    "         * If sum of die is 7: end game and return False\n",
    "         * If sum of die is the sum from the first roll: end game and return True\n",
    "         * Otherwise roll again\n",
    "* Simulate n games (I did n = 1,000,000) and add result of each game to the number of wins\n",
    "     - Python maps True to 1 and False to 0\n",
    "* Divide the number of wins by n and multiply by 100 to get the percentage of time we win"
   ]
  },
  {
   "cell_type": "code",
   "execution_count": 3,
   "id": "e155f1e6",
   "metadata": {},
   "outputs": [],
   "source": [
    "def roll_two_die():\n",
    "    die1 = np.ceil(np.random.uniform(low=0.0, high=1.0, size=None) * 6)\n",
    "    die2 = np.ceil(np.random.uniform(low=0.0, high=1.0, size=None) * 6)\n",
    "    return int(die1 + die2)"
   ]
  },
  {
   "cell_type": "code",
   "execution_count": 23,
   "id": "4eabb6e9",
   "metadata": {},
   "outputs": [],
   "source": [
    "def round_simulation():\n",
    "    # Run a round of Craps. Return True if round ended with a win, return\n",
    "    # False if round ended with a loss\n",
    "    \n",
    "    # First Turn\n",
    "    roll1 = roll_two_die()\n",
    "    if roll1 == 7 or roll1 == 11:\n",
    "        # 7 or 11 imediately win\n",
    "        return True\n",
    "    elif roll1 == 2 or roll1 == 3 or roll1 == 12:\n",
    "        # 2, 3, 12 imediately lose\n",
    "        return False\n",
    "    else:\n",
    "        done = 0\n",
    "        while done == 0:\n",
    "            # Keep rolling until win or lose\n",
    "            roll = roll_two_die()\n",
    "            if roll == 7:\n",
    "                # Lose if 7\n",
    "                done = \"loss\"\n",
    "            elif roll == roll1:\n",
    "                # Win if result from first roll\n",
    "                done = \"win\"\n",
    "        if done == \"loss\":\n",
    "            return False\n",
    "        else:\n",
    "            return True"
   ]
  },
  {
   "cell_type": "code",
   "execution_count": 38,
   "id": "dca24412",
   "metadata": {},
   "outputs": [
    {
     "name": "stdout",
     "output_type": "stream",
     "text": [
      "Winning Probability: 49.338%\n"
     ]
    }
   ],
   "source": [
    "n_size = 1000000\n",
    "\n",
    "wins = 0\n",
    "for i in range(n_size):\n",
    "    # Run n rounds, if win return True (1) if lose return False (0). Add\n",
    "    # result to number of wins\n",
    "    wins += round_simulation()\n",
    "\n",
    "# Report winning probability\n",
    "print(\"Winning Probability: \" + str(round(wins / n_size * 100, 3)) + str(\"%\"))"
   ]
  },
  {
   "cell_type": "markdown",
   "id": "07fd2e29",
   "metadata": {},
   "source": [
    "# Problem 2: A Doctor's Work Day\n",
    "\n",
    "* A doctor sees 16 patients a day\n",
    "* Appointments are scheduled every 30 min. beginning at 9 AM\n",
    "    - The first appointment starts at 9 AM unless the 1st person is late\n",
    "    - The doctor sees the next patient immediately if they're there even if it's before the scheduled appointemnt time\n",
    "    \n",
    "* Patients arrive following the probabilities:\n",
    "\n",
    "| Arrival Time | Probability |\n",
    "| ------------ | ----------- |\n",
    "| 15 min. Early | 10% |\n",
    "| 5 min. Early | 25% |\n",
    "| On Time | 50% |\n",
    "| 10 min. Late | 10% |\n",
    "| 15 min. Late | 5% |\n",
    "\n",
    "* Appointments lengths follow the probabilities:\n",
    "\n",
    "| Length (min.) | Probability |\n",
    "| ------------------------- | ----------- |\n",
    "| 24 | 10% |\n",
    "| 27 | 20% |\n",
    "| 30 | 40% |\n",
    "| 33 | 15% |\n",
    "| 36 | 10% |\n",
    "| 39 | 5% |\n",
    "\n",
    "Design a simulation and use it to find the average day length for the doctor.\n",
    "\n",
    "### Algorith Overview\n",
    "\n",
    "* Simulate arrival times and appointment lengths for each of the 16 patient through random number generation:\n",
    "    - Divide the interval [0, 1] into intervals each the size of the above probabilities\n",
    "    - Generate a random number between 0 and 1, and then assign the arrival time/appointment length based on the corresponding subinterval the number falls in.\n",
    "    - For the arrival times, add the negative value to the scheduled appointment time (patient number times 30) if the patient is early and the positive value if patient is late\n",
    "* Start with time = 0 minutes. For the first patient, if their arrival time is less than 0 (before 9), just add their appointment length time to the time variable. Otherwise, add their arrival time to the time variable and then add their appointment length.\n",
    "* For each patient after the first:\n",
    "    - If the current time value is less than the patient's arrival time, add the difference between the current time variable and the patient's arrival time to the time variable\n",
    "    - Add the patient's appointment time to the time variable\n",
    "* Once all patients have \"been seen\" the time variable will hold the length of that day\n",
    "* Repeat this simulation of a day n times (I did n = 100,000) and take the average to get the average day length\n"
   ]
  },
  {
   "cell_type": "code",
   "execution_count": 39,
   "id": "a6cbe634",
   "metadata": {},
   "outputs": [],
   "source": [
    "def arrival_time():\n",
    "    # Generate the change to a patient's arrival time according to given\n",
    "    # probabilities\n",
    "    p = np.random.uniform(low=0.0, high=1.0, size=None)\n",
    "    if p < 0.1:\n",
    "        return -15\n",
    "    elif p < 0.35:\n",
    "        return -5\n",
    "    elif p < 0.85:\n",
    "        return 0\n",
    "    elif p < 0.95:\n",
    "        return 10\n",
    "    else:\n",
    "        return 15"
   ]
  },
  {
   "cell_type": "code",
   "execution_count": 54,
   "id": "a9571245",
   "metadata": {},
   "outputs": [],
   "source": [
    "def appt_len():\n",
    "    # Generate the appointment length for a patient according to given\n",
    "    # probabilities\n",
    "    p = np.random.uniform(low=0.0, high=1.0, size=None)\n",
    "    if p < 0.1:\n",
    "        return 24\n",
    "    elif p < 0.3:\n",
    "        return 27\n",
    "    elif p < 0.7:\n",
    "        return 30\n",
    "    elif p < 0.85:\n",
    "        return 33\n",
    "    elif p < 0.95:\n",
    "        return 36\n",
    "    else:\n",
    "        return 39"
   ]
  },
  {
   "cell_type": "code",
   "execution_count": 89,
   "id": "d9864c05",
   "metadata": {},
   "outputs": [],
   "source": [
    "def day():\n",
    "    # Select each patient's arrival time and appt length according to \n",
    "    # probabilities\n",
    "    p_arrivals = np.zeros(16)\n",
    "    p_lengths = np.zeros(16)\n",
    "    for i in range(16):\n",
    "        p_arrivals[i] = arrival_time() + 30 * i\n",
    "        p_lengths[i] = appt_len()\n",
    "    time = 0\n",
    "    \n",
    "    # First Patient\n",
    "    if p_arrivals[0] > 0:\n",
    "        time += p_arrivals[0]\n",
    "    time += p_lengths[0]\n",
    "    \n",
    "    # Remaining Patients\n",
    "    for i in range(1, 16):\n",
    "        if time < p_arrivals[i]:\n",
    "            time += p_arrivals[i] - time\n",
    "        time += p_lengths[i]\n",
    "    return time\n",
    "        "
   ]
  },
  {
   "cell_type": "code",
   "execution_count": 105,
   "id": "99e0dab6",
   "metadata": {},
   "outputs": [
    {
     "name": "stdout",
     "output_type": "stream",
     "text": [
      "Average Day Length: 8 hrs 19 mins\n"
     ]
    }
   ],
   "source": [
    "n = 100000\n",
    "\n",
    "total = 0\n",
    "for i in range(n):\n",
    "    # Simulate n days\n",
    "    total += day()\n",
    "\n",
    "# Take avg and convert to hours and minutes\n",
    "avg = total / n\n",
    "hrs = round(avg / 60)\n",
    "mins = round((avg/60 - hrs) * 60)\n",
    "\n",
    "# Report winning probability\n",
    "print(\"Average Day Length: \" + str(hrs) + \" hrs \" + str(mins) + \" mins\")\n"
   ]
  },
  {
   "cell_type": "code",
   "execution_count": null,
   "id": "5d752f3a",
   "metadata": {},
   "outputs": [],
   "source": []
  }
 ],
 "metadata": {
  "kernelspec": {
   "display_name": "Python 3 (ipykernel)",
   "language": "python",
   "name": "python3"
  },
  "language_info": {
   "codemirror_mode": {
    "name": "ipython",
    "version": 3
   },
   "file_extension": ".py",
   "mimetype": "text/x-python",
   "name": "python",
   "nbconvert_exporter": "python",
   "pygments_lexer": "ipython3",
   "version": "3.10.9"
  }
 },
 "nbformat": 4,
 "nbformat_minor": 5
}
